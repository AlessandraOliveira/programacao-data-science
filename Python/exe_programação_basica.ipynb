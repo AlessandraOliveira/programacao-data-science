{
 "cells": [
  {
   "cell_type": "markdown",
   "metadata": {},
   "source": [
    "## Exercicios para treinar\n"
   ]
  },
  {
   "cell_type": "code",
   "execution_count": null,
   "metadata": {},
   "outputs": [],
   "source": [
    "# CONVERSÃO DE TIPO\n",
    "# Aprendendo Conversão de Tipo Com Exemplos\n",
    "\n",
    "# Números Inteiros\n",
    "valor_int_1 = int(2.7) \n",
    "print(valor_int_1) # Saída: 2   \n",
    "\n",
    "valor_int_2 = int(-3.9)\n",
    "print(valor_int_2) # Saída: -3   \n",
    "\n",
    "valor_int_3 = int(\"2\")\n",
    "print(valor_int_3) # Saída: 2  \n",
    "\n",
    "\n",
    "# Números de Ponto Flutuante\n",
    "valor_float_1 = float(7)\n",
    "print(valor_float_1) # Saída: 7.0\n",
    "\n",
    "valor_float_2 = float(\"4.5\")\n",
    "print(valor_float_2) # Saída: 4.5\n",
    "\n",
    "valor_float_4 = float(\"2.7E-2\")\n",
    "print(valor_float_4) # Saída: 0.027\n",
    "\n",
    "valor_float_5 = float(False)\n",
    "print(valor_float_5) # Saída: 0.0\n",
    "\n",
    "valor_float_6 = float(True)\n",
    "print(valor_float_6) # Saída: 1.0\n",
    "\n",
    "\n",
    "# Cadeia de Caracteres\n",
    "valor_string_1 = str(4.5)\n",
    "print(valor_string_1) # Saída: 4.5\n",
    "\n",
    "valor_string_2 = str([1, 2, 3, 4, 5])\n",
    "print(valor_string_2) # Saída: \"[1, 2, 3, 4, 5]\"\n",
    "\n",
    "\n",
    "# Tipos Lógicos (Booleanos)\n",
    "valor_bool_1 = bool(0)\n",
    "print(valor_bool_1) # Saída: False\n",
    "\n",
    "valor_bool_2 = bool(1)\n",
    "print(valor_bool_2) # Saída: True\n",
    "\n",
    "valor_bool_3 = bool([])\n",
    "print(valor_bool_3) # Saída: False - Lista Vazia\n",
    "\n",
    "valor_bool_4 = bool([False])\n",
    "print(valor_bool_4) # Saída: True - Lista Não Vazia\n",
    "\n",
    "valor_bool_5 = bool({})\n",
    "print(valor_bool_5) # Saída: False - Dicionário Vazio, o mesmo para Tupla\n",
    "\n",
    "valor_bool_6 = bool(\"\")\n",
    "print(valor_bool_6) # Saída: False - String Vazia\n",
    "\n",
    "valor_bool_7 = bool(\" \")\n",
    "print(valor_bool_7) # Saída: True - String Não Vazia\n",
    "\n",
    "valor_bool_8 = bool(None)\n",
    "print(valor_bool_8) # Saída: False\n",
    "\n",
    "valor_bool_9 = bool(len)\n",
    "print(valor_bool_9) # Saída: True\n",
    "\n",
    "# Listas e Conjuntos\n",
    "conjunto = set([1, 2])\n",
    "lista = list(conjunto)\n",
    "print(conjunto) # Saída: {1, 2}\n",
    "print(lista)    # Saída: [1, 2]\n",
    "\n",
    "valor_lista_1 = list({0: \"Python\", 1: \"R\"}) # dict: Lista de chaves\n",
    "print(valor_lista_1) # Saída: [0, 1]\n",
    "\n",
    "tupla = tuple(lista)\n",
    "print(tupla) # Saída: (1, 2)\n",
    "\n",
    "valor_lista_2 = list(\"ABC\")\n",
    "print(valor_lista_2) # Saída: ['A', 'B', 'C']"
   ]
  },
  {
   "cell_type": "code",
   "execution_count": null,
   "metadata": {},
   "outputs": [],
   "source": [
    "# Conversão IMPLÍCITA de Tipo\n",
    "# Aprendendo Conversão de Tipo Com Exemplos\n",
    "\n",
    "numero_inteiro = 7\n",
    "numero_real = inteiro + 2.1\n",
    "print(numero_real) # Saída: 9.1\n",
    "\n",
    "cadeia_caracteres = \"Meu int: \" + str(numero_inteiro)\n",
    "print(cadeia_caracteres)\n",
    "\n",
    "numero_inteiro_2 = 4 + True\n",
    "print(numero_inteiro_2) # Saída: 5 - O valor booleno é convetido implicitamente para inteiro"
   ]
  },
  {
   "cell_type": "code",
   "execution_count": 7,
   "metadata": {
    "scrolled": true
   },
   "outputs": [
    {
     "name": "stdout",
     "output_type": "stream",
     "text": [
      "Informe um nro:10\n",
      "O antecessor do seu nro é 9 e o sucessor é 11\n"
     ]
    }
   ],
   "source": [
    "#Faça um programa que leia um número inteiro e mostre na tela seu sucessor e seu antecessor\n",
    "\n",
    "n = int(input('Informe um nro:'))\n",
    "\n",
    "ant = (n - 1)\n",
    "suc = (n + 1)\n",
    "\n",
    "#print (ant, suc)\n",
    "\n",
    "print ('O antecessor do seu nro é {} e o sucessor é {}'.format(ant, suc))\n"
   ]
  },
  {
   "cell_type": "code",
   "execution_count": 28,
   "metadata": {},
   "outputs": [
    {
     "name": "stdout",
     "output_type": "stream",
     "text": [
      "Qual sua grana?50\n",
      "Dolar hoje:2\n",
      "Com esse dinheiro você poderá comprar 25.00 dólares\n"
     ]
    }
   ],
   "source": [
    "# Crie um programa que leia quanto dinheiro uma pessoa tem na carteira e mostre quantos dolares ela pode comprar. Solicite o valor\n",
    "# do dolar no programa\n",
    "\n",
    "dinheiro = float(input('Qual sua grana?'))\n",
    "dolar = float(input('Dolar hoje:'))\n",
    "\n",
    "print('Com esse dinheiro você poderá comprar {:.2f} dólares'.format(dinheiro / dolar))\n"
   ]
  },
  {
   "cell_type": "code",
   "execution_count": 23,
   "metadata": {},
   "outputs": [
    {
     "name": "stdout",
     "output_type": "stream",
     "text": [
      "Medida1\n",
      "conversão: 100.0cm e 1000.0mm\n"
     ]
    }
   ],
   "source": [
    "# Escreva um programa que leia um valor em metros e o exiba convertido em centimetros e milimetros\n",
    "\n",
    "medida = float(input('Medida'))\n",
    "\n",
    "print('conversão: {}cm e {}mm'.format((medida * 100), (medida * 1000)))\n"
   ]
  },
  {
   "cell_type": "code",
   "execution_count": 22,
   "metadata": {},
   "outputs": [
    {
     "name": "stdout",
     "output_type": "stream",
     "text": [
      "Informe um numero:2\n",
      "4 6\n",
      "Dobro 4, Triplo 6 e Raiz 1.41\n"
     ]
    }
   ],
   "source": [
    "# Crie um algoritmo que leia um número e mostre o seu dobro, triplo e raiz quadrada\n",
    "\n",
    "n = int(input('Informe um numero:'))\n",
    "\n",
    "d = (n * 2)\n",
    "t = (n * 3)\n",
    "r = (n ** (1/2))\n",
    "\n",
    "\n",
    "print (d , t)\n",
    "\n",
    "\n",
    "print('Dobro {}, Triplo {} e Raiz {:.2f}'.format(d, t, r))\n",
    "                                            "
   ]
  },
  {
   "cell_type": "code",
   "execution_count": 21,
   "metadata": {},
   "outputs": [
    {
     "name": "stdout",
     "output_type": "stream",
     "text": [
      "nota1: 10\n",
      "nota2:2\n",
      "média: 6.0\n"
     ]
    }
   ],
   "source": [
    "# Desenvolva um programa que leia as duas notas de um aluno, calcule e mostre a sua média\n",
    "\n",
    "n1 = int(input('nota1: '))\n",
    "n2 = int(input('nota2:'))\n",
    "\n",
    "media = (n1 + n2) / 2\n",
    "\n",
    "print ('média: {}'.format(media))\n"
   ]
  },
  {
   "cell_type": "markdown",
   "metadata": {},
   "source": [
    "## Operadores\n",
    "\n",
    "*Operadores Numéricos*\n",
    "\n",
    "| Operador | Descrição       |\n",
    "|:---------|:----------------|\n",
    "| +        | Adição          |\n",
    "| -        | Subtração       |\n",
    "| *        | Multiplicação   |\n",
    "| /        | Divisão         |\n",
    "| **       | Expoente        |\n",
    "| %        | Módulo          |\n",
    "| //       | Divisão de Piso |\n",
    "\n",
    "\n",
    "*Operadores de Comparação*\n",
    "\n",
    "| Operador | Descrição       |\n",
    "|:---------|:----------------|\n",
    "| ==       | Igual           |\n",
    "| !=       | Diferente       |\n",
    "| >        | Maior           |\n",
    "| <        | Menor           |\n",
    "| >=       | Maior Igual     |\n",
    "| <=       | Menor Igual     |\n",
    "\n",
    "\n",
    "*Operadores Lógicos*\n",
    "\n",
    "| Operador | Descrição       |\n",
    "|:---------|:----------------|\n",
    "| and      | AND lógico      |\n",
    "| or       | OR lógico       |\n",
    "| not      | NOT lógico      |\n",
    "\n",
    "*Caracteres Especiais*\n",
    "\n",
    "| Operador | Descrição       |\n",
    "|:---------|:----------------|\n",
    "| #        | Comentário      |\n",
    "| \\n       | Nova Linha      |\n"
   ]
  },
  {
   "cell_type": "code",
   "execution_count": null,
   "metadata": {},
   "outputs": [],
   "source": []
  },
  {
   "cell_type": "markdown",
   "metadata": {},
   "source": [
    "### Técnicas de Looping\n",
    "\n",
    "1. Ao percorrer dicionários, a chave e o valor, podem ser recuperados ao mesmo tempo através do método *items()*;\n",
    "\n",
    "```python\n",
    "websites = {'site': \"Python Software Foundation\", 'url': \"https://www.python.org/\"}\n",
    "\n",
    "for key, value in websites.items():\n",
    "    print(key, value)\n",
    "    \n",
    "# Saída\n",
    "# site Python Software Foundation\n",
    "# url https://www.python.org/\n",
    "```\n",
    "\n",
    "2. Ao percorrer sequências, índice e o item, podem ser recuperados ao mesmo tempo através do método *enumerate()*;\n",
    "\n",
    "```python\n",
    "rgb = [\"Red\", \"Green\", \"Blue\"]\n",
    "\n",
    "for i, item in enumerate(rgb):\n",
    "    print(i, item)\n",
    "    \n",
    "# Saída\n",
    "# 0 Red\n",
    "# 1 Green\n",
    "# 2 Blue\n",
    "```\n",
    "\n",
    "3. Para percorrer duas ou mais sequências ao mesmo tempo, as entradas podem ser emparelhadas através da função *zip()*;\n",
    "\n",
    "\n",
    "```python\n",
    "condinomes_android = [\"Petit Four\", \"Eclair\",  \"Honeycomb\", \"Ice Cream Sandwich\", \"Lollipop\", \"Marshmallow\", \"Nougat\", \"Oreo\", \"Pie\"]\n",
    "versoes_android = [\"1.1\", \"2.0 – 2.1\", \"3.0 – 3.2.6\", \"4.0 – 4.0.4\", \"5.0 – 5.1.1\", \"6.0 – 6.0.1\", \"7.0 – 7.1.2\", \"8.0 – 8.1\", \"9.0\"]\n",
    "\n",
    "for codinome, versao in zip(condinomes_android, versoes_android):\n",
    "    print(codinome, versao)\n",
    "    \n",
    "# Saída\n",
    "# Petit Four 1.1\n",
    "# Eclair 2.0 – 2.1\n",
    "# Honeycomb 3.0 – 3.2.6\n",
    "# Ice Cream Sandwich 4.0 – 4.0.4\n",
    "# Lollipop 5.0 – 5.1.1\n",
    "# Marshmallow 6.0 – 6.0.1\n",
    "# Nougat 7.0 – 7.1.2\n",
    "# Oreo 8.0 – 8.1\n",
    "# Pie 9.0\n",
    "```\n",
    "\n",
    "4. Para iterar em uma sequência ordenada sem alterar a ordem dos elementos utilize o metodo *sorted()* que irá retornar uma nova lista ordenada sem alterar a original\n",
    "\n",
    "```python\n",
    "estados_sudeste_brasileiro = [\"São Paulo\", \"Rio de Janeiro\", \"Minas Gerais\", \"Espírito Santo\"]\n",
    "\n",
    "for estado in sorted(set(estados_sudeste_brasileiro)):\n",
    "    print(estado)\n",
    "    \n",
    "# Saída\n",
    "# Espírito Santo\n",
    "# Minas Gerais\n",
    "# Rio de Janeiro\n",
    "# São Paulo    \n",
    "    \n",
    "```"
   ]
  },
  {
   "cell_type": "code",
   "execution_count": null,
   "metadata": {},
   "outputs": [],
   "source": []
  }
 ],
 "metadata": {
  "kernelspec": {
   "display_name": "Python 3",
   "language": "python",
   "name": "python3"
  },
  "language_info": {
   "codemirror_mode": {
    "name": "ipython",
    "version": 3
   },
   "file_extension": ".py",
   "mimetype": "text/x-python",
   "name": "python",
   "nbconvert_exporter": "python",
   "pygments_lexer": "ipython3",
   "version": "3.7.3"
  }
 },
 "nbformat": 4,
 "nbformat_minor": 2
}
